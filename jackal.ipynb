{
 "cells": [
  {
   "cell_type": "code",
   "execution_count": 77,
   "metadata": {},
   "outputs": [],
   "source": [
    "import numpy as np\n",
    "import cv2\n",
    "import random\n",
    "import os"
   ]
  },
  {
   "cell_type": "markdown",
   "metadata": {},
   "source": [
    "https://cdn.mosigra.ru/mosigra.product.other/545/275/01_Jackal_rules_print_590301.pdf\n",
    "\n",
    "https://jackal.su/usefulness/handmade"
   ]
  },
  {
   "cell_type": "code",
   "execution_count": 44,
   "metadata": {},
   "outputs": [],
   "source": [
    "class Tile:\n",
    "    def __init__(self, tile_type, direction):\n",
    "        self.tile_type = tile_type\n",
    "        self.direction = direction\n",
    "        self.is_open = False\n",
    "        self.objects = []\n",
    "    \n",
    "    def open(self):\n",
    "        self.is_open = True\n",
    "        pass\n",
    "    \n",
    "    def step(self, pirate, direction):\n",
    "        pass"
   ]
  },
  {
   "cell_type": "code",
   "execution_count": 45,
   "metadata": {},
   "outputs": [],
   "source": [
    "game_map = np.empty((11, 11), dtype=Tile)\n",
    "\n",
    "tile_dirs = {\n",
    "    0:   0, # ->\n",
    "    1:  90, # ↑\n",
    "    2: 180, # <-\n",
    "    3: 270, # ↓\n",
    "}"
   ]
  },
  {
   "cell_type": "code",
   "execution_count": 78,
   "metadata": {},
   "outputs": [],
   "source": [
    "def resize_tile_img(tile, tile_img, tile_size):\n",
    "    res_img = cv2.resize(tile_img.copy(), tile_size)\n",
    "    \n",
    "    dir_to_rot = {\n",
    "        1: cv2.ROTATE_90_CLOCKWISE,\n",
    "        2: cv2.ROTATE_180,\n",
    "        3: cv2.ROTATE_90_COUNTERCLOCKWISE,\n",
    "    }\n",
    "    \n",
    "    if tile.direction:\n",
    "        res_img = cv2.rotate(res_img, dir_to_rot[tile.direction])\n",
    "    \n",
    "    return res_img"
   ]
  },
  {
   "cell_type": "code",
   "execution_count": 117,
   "metadata": {},
   "outputs": [],
   "source": [
    "tiles = {\n",
    "    'empty':40,\n",
    "    'dir_straight':3,\n",
    "    'dir_45':3,\n",
    "    'dir_45_225':3,\n",
    "    'dir_0_180':3,\n",
    "    'dir_0_135_270':3,\n",
    "    'dir_diagonal':3,\n",
    "    'dir_uplr':3,\n",
    "    'horses':2,\n",
    "    'spinning_2':5,\n",
    "    'spinning_3':4,\n",
    "    'spinning_4':2,\n",
    "    'spinning_5':1,\n",
    "    'ice_lake':6,\n",
    "    'trap':3,\n",
    "    'cannon':2,\n",
    "    'fort':2,\n",
    "    'aborigine':1,\n",
    "    'drinking_rum':4,\n",
    "    'crocodile':4,\n",
    "    'ogre':1,\n",
    "    'baloon':2,\n",
    "    'plane':1,\n",
    "    'money_1':5,\n",
    "    'money_2':5,\n",
    "    'money_3':3,\n",
    "    'money_4':2,\n",
    "    'money_5':1,\n",
    "}"
   ]
  },
  {
   "cell_type": "code",
   "execution_count": 118,
   "metadata": {},
   "outputs": [],
   "source": [
    "def prob_dist(tiles):\n",
    "    dist = []\n",
    "    total = sum(tiles.values())\n",
    "    for num in tiles.values():\n",
    "        dist.append(num / total)\n",
    "    return dist"
   ]
  },
  {
   "cell_type": "code",
   "execution_count": 119,
   "metadata": {},
   "outputs": [],
   "source": [
    "i = 0\n",
    "while sum(tiles.values()) > 0:\n",
    "    x, y = i // 11, i % 11\n",
    "#     print(x, y)\n",
    "    i += 1\n",
    "    if x == 0 and y == 0 or x == 10 and y == 10 or x == 0 and y == 10 or x == 10 and y == 0:\n",
    "        continue\n",
    "    tile_type = np.random.choice(list(tiles), 1, replace=False, p=prob_dist(tiles))[0]\n",
    "    tiles[tile_type] -= 1\n",
    "    if not tiles[tile_type]:\n",
    "        del tiles[tile_type]\n",
    "    \n",
    "    tile_dir = random.sample(list(tile_dirs), 1)[0]\n",
    "    \n",
    "    game_map[y][x] = Tile(tile_type, tile_dir)"
   ]
  },
  {
   "cell_type": "code",
   "execution_count": 120,
   "metadata": {},
   "outputs": [],
   "source": [
    "tile_shape = (32, 32)\n",
    "res_img = np.zeros((tile_shape[0] * 11, tile_shape[1] * 11, 3))\n",
    "for (x, y), tile in np.ndenumerate(game_map):\n",
    "    if tile:\n",
    "        tile_img = cv2.imread(os.path.join('main_img_res', tile.tile_type + '.png'))\n",
    "#         print(os.path.join('main_img_res', tile.tile_type + '.png'))\n",
    "        tile_img = resize_tile_img(tile, tile_img, tile_shape)\n",
    "#         print(x * tile_shape[0], (x+1) * tile_shape[0], y * tile_shape[1], (y+1) * tile_shape[1])\n",
    "        res_img[x * tile_shape[0]:(x+1) * tile_shape[0], y * tile_shape[1]:(y+1) * tile_shape[1]] = tile_img"
   ]
  },
  {
   "cell_type": "code",
   "execution_count": 121,
   "metadata": {},
   "outputs": [
    {
     "data": {
      "text/plain": [
       "True"
      ]
     },
     "execution_count": 121,
     "metadata": {},
     "output_type": "execute_result"
    }
   ],
   "source": [
    "cv2.imwrite('res.png', res_img)"
   ]
  }
 ],
 "metadata": {
  "kernelspec": {
   "display_name": "Python 3",
   "language": "python",
   "name": "python3"
  },
  "language_info": {
   "codemirror_mode": {
    "name": "ipython",
    "version": 3
   },
   "file_extension": ".py",
   "mimetype": "text/x-python",
   "name": "python",
   "nbconvert_exporter": "python",
   "pygments_lexer": "ipython3",
   "version": "3.7.3"
  }
 },
 "nbformat": 4,
 "nbformat_minor": 2
}
